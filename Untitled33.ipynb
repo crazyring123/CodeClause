{
  "nbformat": 4,
  "nbformat_minor": 0,
  "metadata": {
    "colab": {
      "provenance": []
    },
    "kernelspec": {
      "name": "python3",
      "display_name": "Python 3"
    },
    "language_info": {
      "name": "python"
    }
  },
  "cells": [
    {
      "cell_type": "code",
      "execution_count": 1,
      "metadata": {
        "id": "9rS8F-i45YMR"
      },
      "outputs": [],
      "source": [
        "import tensorflow as tf\n",
        "from tensorflow.keras import layers, models\n",
        "from tensorflow.keras.datasets import cifar10\n",
        "from tensorflow.keras.utils import to_categorical\n",
        "import matplotlib.pyplot as plt\n"
      ]
    },
    {
      "cell_type": "code",
      "source": [
        "(train_images, train_labels), (test_images, test_labels) = cifar10.load_data()"
      ],
      "metadata": {
        "id": "llypMK5c5ciD"
      },
      "execution_count": 5,
      "outputs": []
    },
    {
      "cell_type": "code",
      "source": [
        "train_images, test_images = train_images / 255.0, test_images / 255.0"
      ],
      "metadata": {
        "id": "ZPC7I_W96B9a"
      },
      "execution_count": 6,
      "outputs": []
    },
    {
      "cell_type": "code",
      "source": [
        "train_labels = to_categorical(train_labels, num_classes=10)\n",
        "test_labels = to_categorical(test_labels, num_classes=10)\n"
      ],
      "metadata": {
        "id": "pdhbZ5i46FDz"
      },
      "execution_count": 7,
      "outputs": []
    },
    {
      "cell_type": "code",
      "source": [
        "model = models.Sequential([\n",
        "    layers.Conv2D(32, (3, 3), activation='relu', input_shape=(32, 32, 3)),\n",
        "    layers.MaxPooling2D((2, 2)),\n",
        "    layers.Conv2D(64, (3, 3), activation='relu'),\n",
        "    layers.MaxPooling2D((2, 2)),\n",
        "    layers.Conv2D(64, (3, 3), activation='relu'),\n",
        "    layers.Flatten(),\n",
        "    layers.Dense(64, activation='relu'),\n",
        "    layers.Dense(10, activation='softmax')\n",
        "])"
      ],
      "metadata": {
        "id": "tdvLI0ti5glt"
      },
      "execution_count": 8,
      "outputs": []
    },
    {
      "cell_type": "code",
      "source": [
        "model.compile(optimizer='adam',\n",
        "              loss='categorical_crossentropy',\n",
        "              metrics=['accuracy'])"
      ],
      "metadata": {
        "id": "tcWdFqzR54Hs"
      },
      "execution_count": 9,
      "outputs": []
    },
    {
      "cell_type": "code",
      "source": [
        "model.summary()"
      ],
      "metadata": {
        "colab": {
          "base_uri": "https://localhost:8080/"
        },
        "id": "q_0dAj6Q56dL",
        "outputId": "7007c46c-ea3a-4a73-d8ea-92582bed8c84"
      },
      "execution_count": 10,
      "outputs": [
        {
          "output_type": "stream",
          "name": "stdout",
          "text": [
            "Model: \"sequential_1\"\n",
            "_________________________________________________________________\n",
            " Layer (type)                Output Shape              Param #   \n",
            "=================================================================\n",
            " conv2d_3 (Conv2D)           (None, 30, 30, 32)        896       \n",
            "                                                                 \n",
            " max_pooling2d_2 (MaxPoolin  (None, 15, 15, 32)        0         \n",
            " g2D)                                                            \n",
            "                                                                 \n",
            " conv2d_4 (Conv2D)           (None, 13, 13, 64)        18496     \n",
            "                                                                 \n",
            " max_pooling2d_3 (MaxPoolin  (None, 6, 6, 64)          0         \n",
            " g2D)                                                            \n",
            "                                                                 \n",
            " conv2d_5 (Conv2D)           (None, 4, 4, 64)          36928     \n",
            "                                                                 \n",
            " flatten_1 (Flatten)         (None, 1024)              0         \n",
            "                                                                 \n",
            " dense_2 (Dense)             (None, 64)                65600     \n",
            "                                                                 \n",
            " dense_3 (Dense)             (None, 10)                650       \n",
            "                                                                 \n",
            "=================================================================\n",
            "Total params: 122570 (478.79 KB)\n",
            "Trainable params: 122570 (478.79 KB)\n",
            "Non-trainable params: 0 (0.00 Byte)\n",
            "_________________________________________________________________\n"
          ]
        }
      ]
    },
    {
      "cell_type": "code",
      "source": [
        "history = model.fit(train_images, train_labels, epochs=10,\n",
        "                    validation_data=(test_images, test_labels))\n"
      ],
      "metadata": {
        "colab": {
          "base_uri": "https://localhost:8080/"
        },
        "id": "J4WKi4xp5jDw",
        "outputId": "4caf6fa5-c3e3-4e84-b6e2-16eb696ce9cc"
      },
      "execution_count": 11,
      "outputs": [
        {
          "output_type": "stream",
          "name": "stdout",
          "text": [
            "Epoch 1/10\n",
            "1563/1563 [==============================] - 76s 48ms/step - loss: 1.5180 - accuracy: 0.4484 - val_loss: 1.3609 - val_accuracy: 0.5101\n",
            "Epoch 2/10\n",
            "1563/1563 [==============================] - 69s 44ms/step - loss: 1.1727 - accuracy: 0.5860 - val_loss: 1.0838 - val_accuracy: 0.6171\n",
            "Epoch 3/10\n",
            "1563/1563 [==============================] - 69s 44ms/step - loss: 1.0251 - accuracy: 0.6409 - val_loss: 1.0003 - val_accuracy: 0.6400\n",
            "Epoch 4/10\n",
            "1563/1563 [==============================] - 70s 45ms/step - loss: 0.9327 - accuracy: 0.6755 - val_loss: 0.9593 - val_accuracy: 0.6622\n",
            "Epoch 5/10\n",
            "1563/1563 [==============================] - 74s 47ms/step - loss: 0.8649 - accuracy: 0.6964 - val_loss: 0.9175 - val_accuracy: 0.6805\n",
            "Epoch 6/10\n",
            "1563/1563 [==============================] - 68s 44ms/step - loss: 0.8059 - accuracy: 0.7165 - val_loss: 0.9360 - val_accuracy: 0.6814\n",
            "Epoch 7/10\n",
            "1563/1563 [==============================] - 70s 45ms/step - loss: 0.7551 - accuracy: 0.7352 - val_loss: 0.8612 - val_accuracy: 0.7055\n",
            "Epoch 8/10\n",
            "1563/1563 [==============================] - 70s 45ms/step - loss: 0.7138 - accuracy: 0.7478 - val_loss: 0.9381 - val_accuracy: 0.6828\n",
            "Epoch 9/10\n",
            "1563/1563 [==============================] - 68s 43ms/step - loss: 0.6713 - accuracy: 0.7653 - val_loss: 0.8693 - val_accuracy: 0.7031\n",
            "Epoch 10/10\n",
            "1563/1563 [==============================] - 69s 44ms/step - loss: 0.6366 - accuracy: 0.7775 - val_loss: 0.8925 - val_accuracy: 0.7033\n"
          ]
        }
      ]
    },
    {
      "cell_type": "code",
      "source": [
        "plt.plot(history.history['accuracy'], label='accuracy')\n",
        "plt.plot(history.history['val_accuracy'], label='val_accuracy')\n",
        "plt.xlabel('Epoch')\n",
        "plt.ylabel('Accuracy')\n",
        "plt.ylim([0, 1])\n",
        "plt.legend(loc='lower right')\n",
        "plt.show()\n"
      ],
      "metadata": {
        "colab": {
          "base_uri": "https://localhost:8080/",
          "height": 455
        },
        "id": "yRuZdAR25n6s",
        "outputId": "f7ace7a3-8c68-48a7-e4e6-fdf2da01414f"
      },
      "execution_count": 13,
      "outputs": [
        {
          "output_type": "display_data",
          "data": {
            "text/plain": [
              "<Figure size 640x480 with 1 Axes>"
            ],
            "image/png": "[encoded data removed]"
          },
          "metadata": {}
        }
      ]
    },
    {
      "cell_type": "code",
      "source": [
        "test_loss, test_acc = model.evaluate(test_images, test_labels)\n",
        "print(f'Test accuracy: {test_acc}')\n"
      ],
      "metadata": {
        "colab": {
          "base_uri": "https://localhost:8080/"
        },
        "id": "XljYQk_b5l--",
        "outputId": "28a00c6b-231d-481c-a096-4cee3c9aca57"
      },
      "execution_count": 12,
      "outputs": [
        {
          "output_type": "stream",
          "name": "stdout",
          "text": [
            "313/313 [==============================] - 4s 13ms/step - loss: 0.8925 - accuracy: 0.7033\n",
            "Test accuracy: 0.7032999992370605\n"
          ]
        }
      ]
    },
    {
      "cell_type": "code",
      "source": [
        "predictions = model.predict(test_images)\n"
      ],
      "metadata": {
        "colab": {
          "base_uri": "https://localhost:8080/"
        },
        "id": "3eTajiKr5qxy",
        "outputId": "2df1b05b-5c8a-43a9-95a2-723cd41299e3"
      },
      "execution_count": 15,
      "outputs": [
        {
          "output_type": "stream",
          "name": "stdout",
          "text": [
            "313/313 [==============================] - 4s 12ms/step\n"
          ]
        }
      ]
    }
  ]
}