{
  "nbformat": 4,
  "nbformat_minor": 0,
  "metadata": {
    "colab": {
      "provenance": [],
      "toc_visible": true
    },
    "kernelspec": {
      "name": "python3",
      "display_name": "Python 3"
    },
    "language_info": {
      "name": "python"
    }
  },
  "cells": [
    {
      "cell_type": "code",
      "source": [
        "from nltk.chat.util import Chat, reflections"
      ],
      "metadata": {
        "id": "W_jeBUfZ1jm7"
      },
      "execution_count": null,
      "outputs": []
    },
    {
      "cell_type": "code",
      "source": [
        "reflections = {\n",
        "  \"i am\"       : \"you are\",\n",
        "  \"i was\"      : \"you were\",\n",
        "  \"i\"          : \"you\",\n",
        "  \"i'm\"        : \"you are\",\n",
        "  \"i'd\"        : \"you would\",\n",
        "  \"i've\"       : \"you have\",\n",
        "  \"i'll\"       : \"you will\",\n",
        "  \"your\"       : \"my\",\n",
        "  \"yours\"      : \"mine\",\n",
        "  \"you\"        : \"me\",\n",
        "  \"me\"         : \"you\",\n",
        "  \"my\"         : \"your\",\n",
        "  \"you are\"    : \"I am\",\n",
        "  \"you were\"   : \"I was\",\n",
        "  \"you've\"     : \"I have\",\n",
        "  \"you'll\"     : \"I will\",\n",
        "\n",
        "}"
      ],
      "metadata": {
        "id": "ZqSfWh0r1nT6"
      },
      "execution_count": null,
      "outputs": []
    },
    {
      "cell_type": "code",
      "source": [
        "print(reflections[\"i am\"])\n",
        "print(reflections[\"i'd\"])"
      ],
      "metadata": {
        "colab": {
          "base_uri": "https://localhost:8080/"
        },
        "id": "dT7UvBC11r0d",
        "outputId": "24567653-e1c9-4139-9f17-ebca103e5286"
      },
      "execution_count": null,
      "outputs": [
        {
          "output_type": "stream",
          "name": "stdout",
          "text": [
            "you are\n",
            "you would\n"
          ]
        }
      ]
    },
    {
      "cell_type": "code",
      "source": [
        "print(chat_pairs[0])\n",
        "print(chat_pairs[1])"
      ],
      "metadata": {
        "colab": {
          "base_uri": "https://localhost:8080/"
        },
        "id": "D0VmqVZd1uC3",
        "outputId": "a2366aac-4c08-4efd-bbd9-217517cd42a2"
      },
      "execution_count": null,
      "outputs": [
        {
          "output_type": "stream",
          "name": "stdout",
          "text": [
            "['hi|hey|hello', ['Hello', 'Hey there']]\n",
            "['what is your name ?', [\"My name is VBot and I'm a chatbot ?\"]]\n"
          ]
        }
      ]
    },
    {
      "cell_type": "code",
      "source": [
        "chat_pairs = [\n",
        "\n",
        "     [\n",
        "        r\"hi|hey|hello\",\n",
        "        [\"Hello\", \"Hey there\",]\n",
        "    ],\n",
        "\n",
        "     [\n",
        "        r\"what is your name ?\",\n",
        "        [\"My name is VBot and I'm a chatbot ?\",]\n",
        "    ],\n",
        "\n",
        "    [\n",
        "        r\"how are you ?\",\n",
        "        [\"I'm doing good\\What is your name. ?\",]\n",
        "    ],\n",
        "\n",
        "     [\n",
        "        r\"my name is (.*)(.*)\",\n",
        "        [\"Hello %1, How are you today ?\",]\n",
        "    ],\n",
        "\n",
        "   [\n",
        "        r\"sorry (.*)\",\n",
        "        [\"Its alright\",\"Its OK, never mind\",]\n",
        "    ],\n",
        "    [\n",
        "        r\"(.*) (good|great|fine)\",\n",
        "        [\"Nice to hear!\",]\n",
        "    ],\n",
        "\n",
        "    [\n",
        "        r\"i'm (.*) doing good\",\n",
        "        [\"Nice to hear that\",\"Alright :)\",]\n",
        "    ],\n",
        "\n",
        "    [\n",
        "        r\"What is your age?\",\n",
        "        [\"I'm a computer program dude\\nSeriously you are asking me this?\",]\n",
        "\n",
        "    ],\n",
        "\n",
        "     [\n",
        "        r\"what (.*) want ?\",\n",
        "        [\"Make me an offer I can't refuse\",]\n",
        "\n",
        "    ],\n",
        "\n",
        "    [\n",
        "        r\"(.*) created ?\",\n",
        "        [\"Rishabh created me using Python's NLTK library \",\"top secret ;)\",]\n",
        "    ],\n",
        "\n",
        "    [\n",
        "        r\"(.*) (location|city) ?\",\n",
        "        ['Yamunanagar, Haryana',]\n",
        "    ],\n",
        "    [\n",
        "        r\"how is weather in (.*)?\",\n",
        "        [\"Weather in %1 is awesome like always\",\"Too hot man here in %1\",\"Too cold man here in %1\",\"Never even heard about %1\"]\n",
        "    ],\n",
        "    [\n",
        "        r\"i work in (.*)?\",\n",
        "        [\"%1 is an Amazing company, I have heard about it.\",]\n",
        "    ],\n",
        "    [\n",
        "        r\"(.*)raining in (.*)\",\n",
        "        [\"No rain since last week here in %2\",\"Damn its raining too much here in %2\"]\n",
        "    ],\n",
        "    [\n",
        "        r\"how (.*) health(.*)\",\n",
        "        [\"I'm a computer program, so I'm always healthy \",]\n",
        "    ],\n",
        "    [\n",
        "        r\"(.*) (cooking|cook|kitchen)\",\n",
        "        [\"IYes! I love cooking. My favorite food is noodles.\",]\n",
        "    ],\n",
        "    [\n",
        "        r\"(.*) fact\",\n",
        "        [\"Be yourself; everyone else is already taken.\",\n",
        "        \"You've gotta dance like there's nobody watching\",\n",
        "        \"Be the change that you wish to see in the world\",\n",
        "        \"No one can make you feel inferior without your consent\",\n",
        "        \"Live as if you were to die tomorrow\",\n",
        "        \"Darkness cannot drive out darkness: only light can do that\",]\n",
        "    ],\n",
        "    [\n",
        "        r\"(.*) (language) (.*) ?\",\n",
        "        [\"I am written in python but I speak English.\",]\n",
        "    ],\n",
        "     [\n",
        "        r\"(.*) (friend|best friend) ?\",\n",
        "        [\"Rishabh is my best friend. I love to be a part of Vision Programmer\",]\n",
        "    ],\n",
        "    [\n",
        "        r\"(.*) (love|like) (.*)?\",\n",
        "        [\"I love to chat and meet new peoples.\",]\n",
        "    ],\n",
        "    [\n",
        "        r\"(.*) (created) ?\",\n",
        "        [\"Rishabh created me so that I can talk with beautiful peoples like you\",]\n",
        "    ],\n",
        "    [\n",
        "        r\"(.*) (visionprogrammer|vision programmer) ?\",\n",
        "        [\"Well Vision Programmer is a blogging site. It contains blog on Programming, Freelancing, Android and many other.\",]\n",
        "    ],\n",
        "     [\n",
        "        r\"(.*) (fruit|eat|food) ?\",\n",
        "        [\"HaHa nice question. I am a robot I don't eat.\",]\n",
        "    ],\n",
        "    [\n",
        "        r\"quit\",\n",
        "        [\"Bye take care. See you soon :) \",\"It was nice talking to you. See you soon :)\"]\n",
        "],\n",
        "]"
      ],
      "metadata": {
        "id": "1366_KXM2aF_"
      },
      "execution_count": null,
      "outputs": []
    },
    {
      "cell_type": "code",
      "source": [
        "def vbot():\n",
        "\n",
        "    print('''Hi, I'm VBot and I chat alot ;)\n",
        "Please type lowercase English language to start a conversation.\n",
        "Type quit to leave ''')\n",
        "\n",
        "    chat = Chat(chat_pairs, reflections)\n",
        "    chat.converse()\n",
        "\n",
        "vbot()"
      ],
      "metadata": {
        "colab": {
          "base_uri": "https://localhost:8080/"
        },
        "id": "28qKWtHE3TGL",
        "outputId": "67a38f12-fad7-48df-e34d-6e11214ee53f"
      },
      "execution_count": null,
      "outputs": [
        {
          "output_type": "stream",
          "name": "stdout",
          "text": [
            "Hi, I'm VBot and I chat alot ;)\n",
            "Please type lowercase English language to start a conversation.\n",
            "Type quit to leave \n",
            ">hello\n",
            "Hello\n",
            ">what is your name\n",
            "My name is VBot and I'm a chatbot ?\n",
            ">who is your best friend\n",
            "Rishabh is my best friend. I love to be a part of Vision Programmer\n",
            ">I love that\n",
            "I love to chat and meet new peoples.\n",
            ">bye\n",
            "None\n",
            ">quit\n",
            "It was nice talking to you. See you soon :)\n"
          ]
        }
      ]
    }
  ]
}